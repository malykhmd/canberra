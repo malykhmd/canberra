{
 "cells": [
  {
   "cell_type": "markdown",
   "id": "analyzed-washington",
   "metadata": {},
   "source": [
    "# Ряды Васильевой в Sage\n",
    "\n",
    "Васильев С.А., Левичев И.В., Малых М.Д., 2024"
   ]
  },
  {
   "cell_type": "markdown",
   "id": "automated-nelson",
   "metadata": {},
   "source": [
    "## Ряды Васильевой\n",
    "\n",
    "Рассмотрим простейшую сингулярно возмущенную задачу \n",
    "$$\n",
    "\\mu \\frac{dx}{dt} =f(x,t,\\mu), \\quad x(0)=g(\\mu).\n",
    "$$\n",
    "Наш класс:"
   ]
  },
  {
   "cell_type": "code",
   "execution_count": 2,
   "id": "earlier-dairy",
   "metadata": {},
   "outputs": [],
   "source": [
    "load('canberra.sage') "
   ]
  },
  {
   "cell_type": "markdown",
   "id": "numerical-pricing",
   "metadata": {},
   "source": [
    "Для примера возьмем следующую задача\n",
    "$$\n",
    "\\left \\{ \\begin{aligned} &\n",
    " \\frac{d}{dt} x = 10 \\, {\\left(t + 1\\right)}^{2} - 5 \\, x^{2} + 1 , \\\\ &\n",
    "x (0)= 10\n",
    "\\end{aligned} \\right.  \n",
    "$$"
   ]
  },
  {
   "cell_type": "code",
   "execution_count": 3,
   "id": "connected-audience",
   "metadata": {},
   "outputs": [],
   "source": [
    "var('x,y,t,tau,mu')\n",
    "f=-(x^2-2*(t+1)^2)+mu\n",
    "g=10"
   ]
  },
  {
   "cell_type": "markdown",
   "id": "random-happening",
   "metadata": {},
   "source": [
    "Зададим сингулярную задачу"
   ]
  },
  {
   "cell_type": "code",
   "execution_count": 4,
   "id": "modular-brave",
   "metadata": {},
   "outputs": [],
   "source": [
    "pr=singular_problem(x,f,g)"
   ]
  },
  {
   "cell_type": "markdown",
   "id": "final-truck",
   "metadata": {},
   "source": [
    "Выведем ее на печать в $\\LaTeX{}$"
   ]
  },
  {
   "cell_type": "code",
   "execution_count": 5,
   "id": "pleased-geneva",
   "metadata": {},
   "outputs": [
    {
     "name": "stdout",
     "output_type": "stream",
     "text": [
      "\\left \\{ \\begin{aligned} &\n",
      "\\mu\\frac{d x }{dt} = 2 \\, {\\left(t + 1\\right)}^{2} - x^{2} + \\mu , \\\\ &\n",
      "x (0)= 10\n",
      "\\end{aligned} \\right. \n"
     ]
    }
   ],
   "source": [
    "pr.latex()"
   ]
  },
  {
   "cell_type": "markdown",
   "id": "identified-brunei",
   "metadata": {},
   "source": [
    "$$\n",
    "\\left \\{ \\begin{aligned} &\n",
    "\\mu\\frac{d x }{dt} = 2 \\, {\\left(t + 1\\right)}^{2} - x^{2} + \\mu , \\\\ &\n",
    "x (0)= 10\n",
    "\\end{aligned} \\right. \n",
    "$$"
   ]
  },
  {
   "cell_type": "markdown",
   "id": "collectible-valentine",
   "metadata": {},
   "source": [
    "### Регулярная часть\n",
    "\n",
    "Регулярная часть решения описысвается рядом\n",
    "$$\n",
    "x=rx_0(t)+rx_1(t)\\mu+\\dots + rx_n(t)\\mu^n +\\dots=R_n(t,\\mu)+\\dots\n",
    "$$\n",
    "коэффициенты которого рассматриваются как функции $t$. \n"
   ]
  },
  {
   "cell_type": "code",
   "execution_count": 6,
   "id": "gothic-atlantic",
   "metadata": {},
   "outputs": [
    {
     "data": {
      "text/plain": [
       "(rx1(t)^2 + 2*rx0(t)*rx2(t))*mu^2 + 2*mu*rx0(t)*rx1(t) + rx0(t)^2 + t"
      ]
     },
     "execution_count": 6,
     "metadata": {},
     "output_type": "execute_result"
    }
   ],
   "source": [
    "pr.r_series(x^2+t,2)"
   ]
  },
  {
   "cell_type": "code",
   "execution_count": 7,
   "id": "corrected-latex",
   "metadata": {},
   "outputs": [
    {
     "data": {
      "text/plain": [
       "(rx0(t)^2 + t) + (2*rx0(t)*rx1(t))*mu + (rx1(t)^2 + 2*rx0(t)*rx2(t))*mu^2 + Order(mu^3)"
      ]
     },
     "execution_count": 7,
     "metadata": {},
     "output_type": "execute_result"
    }
   ],
   "source": [
    "pr.r_series(x^2+t,2).series(mu,3)"
   ]
  },
  {
   "cell_type": "code",
   "execution_count": 8,
   "id": "national-lunch",
   "metadata": {},
   "outputs": [
    {
     "data": {
      "text/plain": [
       "(rx1(t)^2 + 2*pi*rx2(t))*mu^2 + 2*pi*mu*rx1(t) + pi^2 + t"
      ]
     },
     "execution_count": 8,
     "metadata": {},
     "output_type": "execute_result"
    }
   ],
   "source": [
    "pr.r_series(x^2+t,2).subs(rx0(t)==pi)"
   ]
  },
  {
   "cell_type": "code",
   "execution_count": 9,
   "id": "hungry-reasoning",
   "metadata": {},
   "outputs": [
    {
     "data": {
      "text/plain": [
       "[rx0(t), rx1(t), rx2(t), rx3(t)]"
      ]
     },
     "execution_count": 9,
     "metadata": {},
     "output_type": "execute_result"
    }
   ],
   "source": [
    "pr.r_list(3)"
   ]
  },
  {
   "cell_type": "markdown",
   "id": "dressed-galaxy",
   "metadata": {},
   "source": [
    "Под регулярной частью разложения символьного выражения $h$ мы пониманем разложение выражения\n",
    "$$\n",
    "\\left. h \\right|_{x=rx_0(t)+rx_1(t)\\mu+\\dots}\n",
    "$$\n",
    "в ряд по степеням $\\mu$. "
   ]
  },
  {
   "cell_type": "code",
   "execution_count": 10,
   "id": "finished-parent",
   "metadata": {},
   "outputs": [
    {
     "data": {
      "text/plain": [
       "-2*(rx1(t)*rx2(t) + rx0(t)*rx3(t))*mu^3 - (rx1(t)^2 + 2*rx0(t)*rx2(t))*mu^2 - (2*rx0(t)*rx1(t) - 1)*mu + 2*t^2 - rx0(t)^2 + 4*t + 2"
      ]
     },
     "execution_count": 10,
     "metadata": {},
     "output_type": "execute_result"
    }
   ],
   "source": [
    "pr.r_series(f,3)"
   ]
  },
  {
   "cell_type": "code",
   "execution_count": 11,
   "id": "tough-hypothetical",
   "metadata": {},
   "outputs": [
    {
     "data": {
      "text/plain": [
       "2*(rx1(t)*rx2(t) + rx0(t)*rx3(t))*mu^3 + (rx1(t)^2 + 2*rx0(t)*rx2(t))*mu^2 + 2*mu*rx0(t)*rx1(t) + rx0(t)^2 + y"
      ]
     },
     "execution_count": 11,
     "metadata": {},
     "output_type": "execute_result"
    }
   ],
   "source": [
    "pr.r_series(x^2+y,3)"
   ]
  },
  {
   "cell_type": "markdown",
   "id": "ready-sherman",
   "metadata": {},
   "source": [
    "Нетрудно составить уравнение\n",
    "$$\n",
    "\\mu \\frac{dR_{n-1}}{dt}= R_n[f]\n",
    "$$"
   ]
  },
  {
   "cell_type": "code",
   "execution_count": 12,
   "id": "infrared-threshold",
   "metadata": {},
   "outputs": [
    {
     "data": {
      "text/plain": [
       "(-2*t^2 + rx0(t)^2 - 4*t - 2) + (2*rx0(t)*rx1(t) + diff(rx0(t), t) - 1)*mu + (rx1(t)^2 + 2*rx0(t)*rx2(t) + diff(rx1(t), t))*mu^2 + Order(mu^3)"
      ]
     },
     "execution_count": 12,
     "metadata": {},
     "output_type": "execute_result"
    }
   ],
   "source": [
    "n=2\n",
    "(mu*diff(pr.r_series(x,n-1),t)-pr.r_series(f,n)).series(mu,n+1)"
   ]
  },
  {
   "cell_type": "markdown",
   "id": "retired-breed",
   "metadata": {},
   "source": [
    "Дифференциальные уравнения для отыскания $rx_n$ получаются, если приравнять нулю коэффициенты этого разложения. Но проще воспользоваться встроенной функцией:"
   ]
  },
  {
   "cell_type": "code",
   "execution_count": 13,
   "id": "equivalent-oxford",
   "metadata": {},
   "outputs": [
    {
     "data": {
      "text/plain": [
       "[-2*t^2 + rx0(t)^2 - 4*t - 2,\n",
       " 2*rx0(t)*rx1(t) + diff(rx0(t), t) - 1,\n",
       " rx1(t)^2 + 2*rx0(t)*rx2(t) + diff(rx1(t), t),\n",
       " 2*rx1(t)*rx2(t) + 2*rx0(t)*rx3(t) + diff(rx2(t), t),\n",
       " rx2(t)^2 + 2*rx1(t)*rx3(t) + 2*rx0(t)*rx4(t) + diff(rx3(t), t),\n",
       " 2*rx2(t)*rx3(t) + 2*rx1(t)*rx4(t) + 2*rx0(t)*rx5(t) + diff(rx4(t), t)]"
      ]
     },
     "execution_count": 13,
     "metadata": {},
     "output_type": "execute_result"
    }
   ],
   "source": [
    "pr.r_odes(5)"
   ]
  },
  {
   "cell_type": "markdown",
   "id": "signed-recorder",
   "metadata": {},
   "source": [
    "Из условия\n",
    "$$\n",
    "\\mu \\frac{dR_{n-1}}{dx}= R_n[f]\n",
    "$$\n",
    "мы получим\n",
    "$$\n",
    "f(r_0,t,0)=0, \\quad f_1(r_1,\\dots)=0, \\dots\n",
    "$$\n",
    "Уравнение для $rx_0$, вообще говоря, не рещается в символьном виде:\n",
    "$$\n",
    "f(r_0,t,0)=0.\n",
    "$$\n",
    "Дифференцируя это уравнение мы выражим все производные $rx_0$ через $rx_0$, второе уранвение линейно относительно $rx_1$, поэтому и его можно выразить через $rx_0$. В итоге\n",
    "$$\n",
    "R_n = rx_0 + \\mu s_1(rx_0,t)+\\mu^2 s_2(rx_0,t)+\\dots\n",
    "$$\n",
    "Вот список выражений $rx_k$ и их производных через $rx_0$:"
   ]
  },
  {
   "cell_type": "code",
   "execution_count": 14,
   "id": "precise-catalyst",
   "metadata": {},
   "outputs": [
    {
     "data": {
      "text/plain": [
       "[diff(rx0(t), t) == 2*(t + 1)/rx0(t),\n",
       " rx1(t) == -1/2*(2*(t + 1)/rx0(t) - 1)/rx0(t),\n",
       " diff(rx1(t), t) == ((t + 1)*(2*(t + 1)/rx0(t) - 1)/rx0(t)^2 + 2*(t + 1)^2/rx0(t)^3 - 1/rx0(t))/rx0(t)]"
      ]
     },
     "execution_count": 14,
     "metadata": {},
     "output_type": "execute_result"
    }
   ],
   "source": [
    "pr.r_solve(1)"
   ]
  },
  {
   "cell_type": "markdown",
   "id": "meaning-fountain",
   "metadata": {},
   "source": [
    "Его можно подставлять в выражения:"
   ]
  },
  {
   "cell_type": "code",
   "execution_count": 15,
   "id": "prostate-invitation",
   "metadata": {},
   "outputs": [
    {
     "data": {
      "text/plain": [
       "mu^2*rx2(t) + mu*rx1(t) + rx0(t)"
      ]
     },
     "execution_count": 15,
     "metadata": {},
     "output_type": "execute_result"
    }
   ],
   "source": [
    "pr.r_series(x,2)"
   ]
  },
  {
   "cell_type": "code",
   "execution_count": 16,
   "id": "supposed-mayor",
   "metadata": {},
   "outputs": [
    {
     "data": {
      "text/plain": [
       "(rx0(t)) + (-t/rx0(t)^2 + 1/2/rx0(t) - 1/rx0(t)^2)*mu + Order(mu^2)"
      ]
     },
     "execution_count": 16,
     "metadata": {},
     "output_type": "execute_result"
    }
   ],
   "source": [
    "pr.r_series(x,1).subs(pr.r_solve(1)).series(mu,2)"
   ]
  },
  {
   "cell_type": "code",
   "execution_count": 17,
   "id": "sixth-footage",
   "metadata": {},
   "outputs": [
    {
     "data": {
      "text/plain": [
       "diff(rx1(t), t)"
      ]
     },
     "execution_count": 17,
     "metadata": {},
     "output_type": "execute_result"
    }
   ],
   "source": [
    "diff(rx1(t),t)"
   ]
  },
  {
   "cell_type": "code",
   "execution_count": 194,
   "id": "sublime-creek",
   "metadata": {},
   "outputs": [
    {
     "data": {
      "text/plain": [
       "((t + 1)*(2*(t + 1)/rx0(t) - 1)/rx0(t)^2 + 2*(t + 1)^2/rx0(t)^3 - 1/rx0(t))/rx0(t)"
      ]
     },
     "execution_count": 194,
     "metadata": {},
     "output_type": "execute_result"
    }
   ],
   "source": [
    "diff(rx1(t),t).subs(pr.r_solve(1))"
   ]
  },
  {
   "cell_type": "markdown",
   "id": "honey-communication",
   "metadata": {},
   "source": [
    "## Пограничная часть\n",
    "\n",
    "$$\n",
    "x=px_0(\\tau) + px_1(\\tau)\\mu+\\dots\n",
    "$$"
   ]
  },
  {
   "cell_type": "code",
   "execution_count": 18,
   "id": "graphic-macedonia",
   "metadata": {},
   "outputs": [
    {
     "data": {
      "text/plain": [
       "mu*px1(tau) + px0(tau)"
      ]
     },
     "execution_count": 18,
     "metadata": {},
     "output_type": "execute_result"
    }
   ],
   "source": [
    "pr.p_series(x,1)"
   ]
  },
  {
   "cell_type": "markdown",
   "id": "nervous-livestock",
   "metadata": {},
   "source": [
    "Пограничная часть символьного выражения --- это разложение выражения\n",
    "$$\n",
    "P[f]=f(rx_0(\\mu \\tau) + \\mu rx_1 (\\mu \\tau) +\\dots + px_0(\\tau) + \\mu px_1(\\tau)+\\dots,t,\\mu) - f(rx_0(\\mu \\tau) + \\mu rx_1 (\\mu \\tau) +\\dots, t,\\mu)\n",
    "$$\n",
    "в ряд по степеням $\\mu$. В нашей системе сразу по умолчанию считается, что рассматриваемое выражение --- правая часть ОДУ. На основании этого предположения $rx_i$ выражаются через $rx_0$. "
   ]
  },
  {
   "cell_type": "code",
   "execution_count": 19,
   "id": "normal-timothy",
   "metadata": {},
   "outputs": [
    {
     "data": {
      "text/plain": [
       "(px0(tau)^2 + 2*px0(tau)*rx0(0) + rx0(0)^2) + (2*px0(tau)*px1(tau) + 2*px1(tau)*rx0(0) + 5*tau + 4*tau*px0(tau)/rx0(0) + px0(tau)/rx0(0) - 2*px0(tau)/rx0(0)^2 - 2/rx0(0) + 1)*mu + Order(mu^2)"
      ]
     },
     "execution_count": 19,
     "metadata": {},
     "output_type": "execute_result"
    }
   ],
   "source": [
    "pr.p_series(x^2+t,1).series(mu,2)"
   ]
  },
  {
   "cell_type": "markdown",
   "id": "bright-sheffield",
   "metadata": {},
   "source": [
    "ОДУ для $px_i(\\tau)$ содепржат только $rx_0(0)$."
   ]
  },
  {
   "cell_type": "code",
   "execution_count": 20,
   "id": "adjustable-welsh",
   "metadata": {},
   "outputs": [
    {
     "data": {
      "text/plain": [
       "[px0(tau)^2 + 2*px0(tau)*rx0(0) + rx0(0)^2 + diff(px0(tau), tau) - 2,\n",
       " 2*px0(tau)*px1(tau) + 2*px1(tau)*rx0(0) + 4*tau*px0(tau)/rx0(0) - (2/rx0(0) - 1)*px0(tau)/rx0(0) - 2/rx0(0) + diff(px1(tau), tau)]"
      ]
     },
     "execution_count": 20,
     "metadata": {},
     "output_type": "execute_result"
    }
   ],
   "source": [
    "pr.p_odes(1)"
   ]
  },
  {
   "cell_type": "markdown",
   "id": "female-switzerland",
   "metadata": {},
   "source": [
    "Начальные условия получаются из условия\n",
    "$$\n",
    "px_0(0)+\\mu px_1(0)+\\dots + rx_0(0) + \\mu rx_1(0)+\\dots = g_0 + g_1 \\mu +\\dots  \n",
    "$$"
   ]
  },
  {
   "cell_type": "code",
   "execution_count": 23,
   "id": "hollywood-bailey",
   "metadata": {},
   "outputs": [
    {
     "data": {
      "text/plain": [
       "[px0(0) == -rx0(0) + 10,\n",
       " px1(0) == 1/2*(2/rx0(0) - 1)/rx0(0),\n",
       " px2(0) == 1/8*((2/rx0(0) - 1)^2/rx0(0)^2 + 4*((2/rx0(0) - 1)/rx0(0)^2 - 1/rx0(0) + 2/rx0(0)^3)/rx0(0))/rx0(0)]"
      ]
     },
     "execution_count": 23,
     "metadata": {},
     "output_type": "execute_result"
    }
   ],
   "source": [
    "pr.p_ics(2)"
   ]
  },
  {
   "cell_type": "markdown",
   "id": "powered-valuation",
   "metadata": {},
   "source": [
    "Нужно ли упрощать выражения по умолчанию? "
   ]
  },
  {
   "cell_type": "code",
   "execution_count": 24,
   "id": "listed-virgin",
   "metadata": {},
   "outputs": [
    {
     "data": {
      "text/plain": [
       "-1/8*(3*rx0(0)^2 + 8*rx0(0) - 20)/rx0(0)^5"
      ]
     },
     "execution_count": 24,
     "metadata": {},
     "output_type": "execute_result"
    }
   ],
   "source": [
    "px2(0).subs(pr.p_ics(2)).full_simplify()"
   ]
  },
  {
   "cell_type": "code",
   "execution_count": null,
   "id": "celtic-blanket",
   "metadata": {},
   "outputs": [],
   "source": []
  }
 ],
 "metadata": {
  "kernelspec": {
   "display_name": "SageMath 9.6",
   "language": "sage",
   "name": "sagemath"
  },
  "language_info": {
   "codemirror_mode": {
    "name": "ipython",
    "version": 3
   },
   "file_extension": ".py",
   "mimetype": "text/x-python",
   "name": "python",
   "nbconvert_exporter": "python",
   "pygments_lexer": "ipython3",
   "version": "3.11.6"
  }
 },
 "nbformat": 4,
 "nbformat_minor": 5
}
